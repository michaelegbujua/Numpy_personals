{
 "cells": [
  {
   "cell_type": "code",
   "execution_count": 1,
   "id": "c5396462",
   "metadata": {},
   "outputs": [],
   "source": [
    "import numpy as np"
   ]
  },
  {
   "cell_type": "code",
   "execution_count": 2,
   "id": "71a143bf",
   "metadata": {},
   "outputs": [
    {
     "data": {
      "text/plain": [
       "array([0.32302322, 0.61235256, 0.66524322, 0.17864802, 0.70876174])"
      ]
     },
     "execution_count": 2,
     "metadata": {},
     "output_type": "execute_result"
    }
   ],
   "source": [
    "np.random.random(5)  #to generate random floating point array of numbers between 0 and 1"
   ]
  },
  {
   "cell_type": "code",
   "execution_count": 3,
   "id": "905a174f",
   "metadata": {},
   "outputs": [
    {
     "data": {
      "text/plain": [
       "array([1., 1., 1., 1., 1.])"
      ]
     },
     "execution_count": 3,
     "metadata": {},
     "output_type": "execute_result"
    }
   ],
   "source": [
    "np.ones(5) #display elements of 1 in 5 places"
   ]
  },
  {
   "cell_type": "code",
   "execution_count": 4,
   "id": "369d295a",
   "metadata": {},
   "outputs": [
    {
     "data": {
      "text/plain": [
       "array([0., 0., 0., 0., 0.])"
      ]
     },
     "execution_count": 4,
     "metadata": {},
     "output_type": "execute_result"
    }
   ],
   "source": [
    "np.zeros(5)"
   ]
  },
  {
   "cell_type": "code",
   "execution_count": 5,
   "id": "0a323db5",
   "metadata": {},
   "outputs": [],
   "source": [
    "new_maths = np.array([1, 2, 3])\n",
    "new_ones =np.ones(3)"
   ]
  },
  {
   "cell_type": "code",
   "execution_count": 7,
   "id": "13e72a10",
   "metadata": {},
   "outputs": [
    {
     "data": {
      "text/plain": [
       "array([1., 2., 3.])"
      ]
     },
     "execution_count": 7,
     "metadata": {},
     "output_type": "execute_result"
    }
   ],
   "source": [
    "new_maths + new_ones"
   ]
  },
  {
   "cell_type": "code",
   "execution_count": 8,
   "id": "be1e66c0",
   "metadata": {},
   "outputs": [
    {
     "data": {
      "text/plain": [
       "array([0., 1., 2.])"
      ]
     },
     "execution_count": 8,
     "metadata": {},
     "output_type": "execute_result"
    }
   ],
   "source": [
    "new_maths - new_ones"
   ]
  },
  {
   "cell_type": "code",
   "execution_count": 9,
   "id": "99c8c091",
   "metadata": {},
   "outputs": [
    {
     "data": {
      "text/plain": [
       "array([1., 2., 3.])"
      ]
     },
     "execution_count": 9,
     "metadata": {},
     "output_type": "execute_result"
    }
   ],
   "source": [
    "new_maths * new_ones"
   ]
  },
  {
   "cell_type": "code",
   "execution_count": 13,
   "id": "d3697210",
   "metadata": {},
   "outputs": [
    {
     "data": {
      "text/plain": [
       "array([1.   , 0.5  , 0.333])"
      ]
     },
     "execution_count": 13,
     "metadata": {},
     "output_type": "execute_result"
    }
   ],
   "source": [
    "np.round(new_ones / new_maths, 3) "
   ]
  },
  {
   "cell_type": "code",
   "execution_count": 14,
   "id": "2609f6a1",
   "metadata": {},
   "outputs": [
    {
     "data": {
      "text/plain": [
       "array([2, 4, 6])"
      ]
     },
     "execution_count": 14,
     "metadata": {},
     "output_type": "execute_result"
    }
   ],
   "source": [
    "new_maths * 2"
   ]
  },
  {
   "cell_type": "code",
   "execution_count": 15,
   "id": "060c4f5d",
   "metadata": {},
   "outputs": [
    {
     "data": {
      "text/plain": [
       "1"
      ]
     },
     "execution_count": 15,
     "metadata": {},
     "output_type": "execute_result"
    }
   ],
   "source": [
    "new_maths[0]"
   ]
  },
  {
   "cell_type": "code",
   "execution_count": 16,
   "id": "07b57906",
   "metadata": {},
   "outputs": [
    {
     "data": {
      "text/plain": [
       "2"
      ]
     },
     "execution_count": 16,
     "metadata": {},
     "output_type": "execute_result"
    }
   ],
   "source": [
    "new_maths[-2]"
   ]
  },
  {
   "cell_type": "markdown",
   "id": "4b8fc80a",
   "metadata": {},
   "source": [
    "# Math Functions with 1-D Array"
   ]
  },
  {
   "cell_type": "code",
   "execution_count": 18,
   "id": "c0a5f7be",
   "metadata": {},
   "outputs": [
    {
     "data": {
      "text/plain": [
       "3"
      ]
     },
     "execution_count": 18,
     "metadata": {},
     "output_type": "execute_result"
    }
   ],
   "source": [
    "new_maths.max() #to obtain the maximum number"
   ]
  },
  {
   "cell_type": "code",
   "execution_count": 20,
   "id": "0ea735a3",
   "metadata": {},
   "outputs": [
    {
     "data": {
      "text/plain": [
       "1"
      ]
     },
     "execution_count": 20,
     "metadata": {},
     "output_type": "execute_result"
    }
   ],
   "source": [
    "new_maths.min() #to obtain the minimum number in the array"
   ]
  },
  {
   "cell_type": "code",
   "execution_count": 22,
   "id": "1792a537",
   "metadata": {},
   "outputs": [
    {
     "data": {
      "text/plain": [
       "6"
      ]
     },
     "execution_count": 22,
     "metadata": {},
     "output_type": "execute_result"
    }
   ],
   "source": [
    "new_maths.sum() #to obtain the sum of all the numbers in the array"
   ]
  },
  {
   "cell_type": "code",
   "execution_count": 23,
   "id": "6e1817fe",
   "metadata": {},
   "outputs": [
    {
     "data": {
      "text/plain": [
       "2.0"
      ]
     },
     "execution_count": 23,
     "metadata": {},
     "output_type": "execute_result"
    }
   ],
   "source": [
    "np.mean(new_maths)"
   ]
  },
  {
   "cell_type": "code",
   "execution_count": 25,
   "id": "5a0247d1",
   "metadata": {},
   "outputs": [
    {
     "data": {
      "text/plain": [
       "2.0"
      ]
     },
     "execution_count": 25,
     "metadata": {},
     "output_type": "execute_result"
    }
   ],
   "source": [
    "np.median(new_maths)"
   ]
  },
  {
   "cell_type": "markdown",
   "id": "94620384",
   "metadata": {},
   "source": [
    "# Creating N-D Arrays or Matrices"
   ]
  },
  {
   "cell_type": "code",
   "execution_count": 30,
   "id": "07778ea0",
   "metadata": {},
   "outputs": [],
   "source": [
    "x = np.array([[10, 20], [30, 40]])    # to produce 2 dim Array"
   ]
  },
  {
   "cell_type": "code",
   "execution_count": 31,
   "id": "6b1ceab1",
   "metadata": {},
   "outputs": [
    {
     "data": {
      "text/plain": [
       "array([[10, 20],\n",
       "       [30, 40]])"
      ]
     },
     "execution_count": 31,
     "metadata": {},
     "output_type": "execute_result"
    }
   ],
   "source": [
    "x"
   ]
  },
  {
   "cell_type": "code",
   "execution_count": 37,
   "id": "bbc9337d",
   "metadata": {},
   "outputs": [
    {
     "data": {
      "text/plain": [
       "array([[1., 1., 1., 1.],\n",
       "       [1., 1., 1., 1.],\n",
       "       [1., 1., 1., 1.]])"
      ]
     },
     "execution_count": 37,
     "metadata": {},
     "output_type": "execute_result"
    }
   ],
   "source": [
    "np.ones((3, 4))           #multi dim Array"
   ]
  },
  {
   "cell_type": "code",
   "execution_count": 34,
   "id": "2f09c8d4",
   "metadata": {},
   "outputs": [
    {
     "data": {
      "text/plain": [
       "array([[0., 0., 0.],\n",
       "       [0., 0., 0.]])"
      ]
     },
     "execution_count": 34,
     "metadata": {},
     "output_type": "execute_result"
    }
   ],
   "source": [
    "np.zeros((2,3))"
   ]
  },
  {
   "cell_type": "code",
   "execution_count": 44,
   "id": "0a2766e3",
   "metadata": {},
   "outputs": [],
   "source": [
    "first_arr = np.random.random((3,4)) #multi Dim Array of random numbers"
   ]
  },
  {
   "cell_type": "code",
   "execution_count": 45,
   "id": "e58e9b42",
   "metadata": {},
   "outputs": [
    {
     "data": {
      "text/plain": [
       "array([[0.44290405, 0.81316153, 0.52997348, 0.56830343],\n",
       "       [0.5530752 , 0.09099656, 0.96650715, 0.30489422],\n",
       "       [0.80581026, 0.31434301, 0.21730952, 0.18335278]])"
      ]
     },
     "execution_count": 45,
     "metadata": {},
     "output_type": "execute_result"
    }
   ],
   "source": [
    "first_arr"
   ]
  },
  {
   "cell_type": "code",
   "execution_count": 46,
   "id": "bf8e0f18",
   "metadata": {},
   "outputs": [],
   "source": [
    "second_arr = np.random.randint(4,6)"
   ]
  },
  {
   "cell_type": "code",
   "execution_count": 47,
   "id": "913a5bac",
   "metadata": {},
   "outputs": [
    {
     "data": {
      "text/plain": [
       "array([[1.77161621, 3.2526461 , 2.11989393, 2.27321371],\n",
       "       [2.21230079, 0.36398622, 3.86602859, 1.21957687],\n",
       "       [3.22324105, 1.25737206, 0.86923807, 0.73341113]])"
      ]
     },
     "execution_count": 47,
     "metadata": {},
     "output_type": "execute_result"
    }
   ],
   "source": [
    "first_arr * second_arr   "
   ]
  },
  {
   "cell_type": "markdown",
   "id": "fb1a2410",
   "metadata": {},
   "source": [
    "It is very impractical to use be do arithemetics on 2 random operands,\n",
    "because their values will keep changing each time you run the cell "
   ]
  },
  {
   "cell_type": "markdown",
   "id": "9d2e530e",
   "metadata": {},
   "source": [
    "# Doing  Math Operation with N-D Arrays"
   ]
  },
  {
   "cell_type": "code",
   "execution_count": 48,
   "id": "d3e22a58",
   "metadata": {},
   "outputs": [],
   "source": [
    "y = np.array([[2,4], [5,6]])"
   ]
  },
  {
   "cell_type": "code",
   "execution_count": 50,
   "id": "b90a5d1c",
   "metadata": {},
   "outputs": [
    {
     "data": {
      "text/plain": [
       "array([[12, 24],\n",
       "       [35, 46]])"
      ]
     },
     "execution_count": 50,
     "metadata": {},
     "output_type": "execute_result"
    }
   ],
   "source": [
    "x + y    #for operations to run the arrays must be of same dim"
   ]
  },
  {
   "cell_type": "code",
   "execution_count": 51,
   "id": "973fc33b",
   "metadata": {},
   "outputs": [
    {
     "data": {
      "text/plain": [
       "array([[120, 160],\n",
       "       [260, 360]])"
      ]
     },
     "execution_count": 51,
     "metadata": {},
     "output_type": "execute_result"
    }
   ],
   "source": [
    "x.dot(y)"
   ]
  },
  {
   "cell_type": "code",
   "execution_count": 52,
   "id": "0e44338c",
   "metadata": {},
   "outputs": [
    {
     "data": {
      "text/plain": [
       "6"
      ]
     },
     "execution_count": 52,
     "metadata": {},
     "output_type": "execute_result"
    }
   ],
   "source": [
    " y.max()"
   ]
  },
  {
   "cell_type": "code",
   "execution_count": 53,
   "id": "cdecbbae",
   "metadata": {},
   "outputs": [
    {
     "data": {
      "text/plain": [
       "2"
      ]
     },
     "execution_count": 53,
     "metadata": {},
     "output_type": "execute_result"
    }
   ],
   "source": [
    "y.min()"
   ]
  },
  {
   "cell_type": "markdown",
   "id": "6395e21b",
   "metadata": {},
   "source": [
    "## Indexing For Matrices"
   ]
  },
  {
   "cell_type": "markdown",
   "id": "42cc89f1",
   "metadata": {},
   "source": [
    "Indexing simply means the technique used in accessing values in an array"
   ]
  },
  {
   "cell_type": "code",
   "execution_count": 55,
   "id": "50bbcf6c",
   "metadata": {},
   "outputs": [
    {
     "data": {
      "text/plain": [
       "4"
      ]
     },
     "execution_count": 55,
     "metadata": {},
     "output_type": "execute_result"
    }
   ],
   "source": [
    "y[0, 1]  #carinal position of a value"
   ]
  },
  {
   "cell_type": "code",
   "execution_count": 56,
   "id": "f148ba06",
   "metadata": {},
   "outputs": [
    {
     "data": {
      "text/plain": [
       "6"
      ]
     },
     "execution_count": 56,
     "metadata": {},
     "output_type": "execute_result"
    }
   ],
   "source": [
    " y[1,1]"
   ]
  },
  {
   "cell_type": "code",
   "execution_count": 57,
   "id": "1e200d08",
   "metadata": {},
   "outputs": [
    {
     "data": {
      "text/plain": [
       "10"
      ]
     },
     "execution_count": 57,
     "metadata": {},
     "output_type": "execute_result"
    }
   ],
   "source": [
    "x[0,0]"
   ]
  },
  {
   "cell_type": "code",
   "execution_count": 58,
   "id": "18705490",
   "metadata": {},
   "outputs": [
    {
     "data": {
      "text/plain": [
       "5"
      ]
     },
     "execution_count": 58,
     "metadata": {},
     "output_type": "execute_result"
    }
   ],
   "source": [
    "y[1,0]"
   ]
  },
  {
   "cell_type": "code",
   "execution_count": 60,
   "id": "d2b29ead",
   "metadata": {},
   "outputs": [],
   "source": [
    "#if we want to access a range of values in an array, you can use slicing techniques"
   ]
  },
  {
   "cell_type": "code",
   "execution_count": 61,
   "id": "3f87d89d",
   "metadata": {},
   "outputs": [
    {
     "data": {
      "text/plain": [
       "array([4, 6])"
      ]
     },
     "execution_count": 61,
     "metadata": {},
     "output_type": "execute_result"
    }
   ],
   "source": [
    "y[0:2, 1]"
   ]
  },
  {
   "cell_type": "code",
   "execution_count": 62,
   "id": "4cafc9f9",
   "metadata": {},
   "outputs": [
    {
     "data": {
      "text/plain": [
       "array([4])"
      ]
     },
     "execution_count": 62,
     "metadata": {},
     "output_type": "execute_result"
    }
   ],
   "source": [
    "y[0:1, 1]"
   ]
  },
  {
   "cell_type": "code",
   "execution_count": null,
   "id": "0a3d9355",
   "metadata": {},
   "outputs": [],
   "source": [
    " "
   ]
  }
 ],
 "metadata": {
  "kernelspec": {
   "display_name": "Python 3",
   "language": "python",
   "name": "python3"
  },
  "language_info": {
   "codemirror_mode": {
    "name": "ipython",
    "version": 3
   },
   "file_extension": ".py",
   "mimetype": "text/x-python",
   "name": "python",
   "nbconvert_exporter": "python",
   "pygments_lexer": "ipython3",
   "version": "3.8.8"
  }
 },
 "nbformat": 4,
 "nbformat_minor": 5
}
